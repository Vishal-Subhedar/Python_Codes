{
 "cells": [
  {
   "cell_type": "markdown",
   "id": "2e92b0fc",
   "metadata": {},
   "source": [
    "# Basic Input Output - 1"
   ]
  },
  {
   "cell_type": "markdown",
   "id": "b6cad711",
   "metadata": {},
   "source": [
    "# Q1- Introduction"
   ]
  },
  {
   "cell_type": "code",
   "execution_count": 1,
   "id": "d0c1976c",
   "metadata": {},
   "outputs": [
    {
     "name": "stdout",
     "output_type": "stream",
     "text": [
      "Enter Name:Vishal\n",
      "Enter age:21\n",
      "Enter city:Pune\n"
     ]
    }
   ],
   "source": [
    "Name = input(\"Enter Name:\")\n",
    "age = int(input(\"Enter age:\"))\n",
    "city = input(\"Enter city:\")"
   ]
  },
  {
   "cell_type": "markdown",
   "id": "889e9892",
   "metadata": {},
   "source": [
    "# Q2- Arethmatic Operations"
   ]
  },
  {
   "cell_type": "code",
   "execution_count": 3,
   "id": "887d9b4b",
   "metadata": {},
   "outputs": [
    {
     "name": "stdout",
     "output_type": "stream",
     "text": [
      "Enter first number:8\n",
      "Enter second number:2\n",
      "num1 + num2 = 10\n",
      "num1 - num2 = 6\n",
      "num1 * num2 = 16\n",
      "num1 / num2 = 4.0\n",
      "num1 % num2 = 0\n",
      "num1 ^ num2 = 64\n"
     ]
    }
   ],
   "source": [
    "num1 = int(input(\"Enter first number:\"))\n",
    "num2 = int(input(\"Enter second number:\"))\n",
    "\n",
    "print(\"num1 + num2 =\",num1+num2)\n",
    "print(\"num1 - num2 =\",num1-num2)\n",
    "print(\"num1 * num2 =\",num1*num2)\n",
    "print(\"num1 / num2 =\",num1/num2)\n",
    "print(\"num1 % num2 =\",num1%num2)\n",
    "print(\"num1 ^ num2 =\",num1**num2)"
   ]
  },
  {
   "cell_type": "markdown",
   "id": "f65bca68",
   "metadata": {},
   "source": [
    "# Basic Input Output - 2"
   ]
  },
  {
   "cell_type": "markdown",
   "id": "2f057e48",
   "metadata": {},
   "source": [
    "# Q1 - Swap Two Numbers "
   ]
  },
  {
   "cell_type": "code",
   "execution_count": 4,
   "id": "82390d7a",
   "metadata": {},
   "outputs": [
    {
     "name": "stdout",
     "output_type": "stream",
     "text": [
      "Enter num1:10\n",
      "Enter num2:20\n",
      "The value of num1 before swap: 10\n",
      "The value of num2 before swap: 20\n",
      "The value of num1 after swap: 20\n",
      "The value of num2 after swap: 10\n"
     ]
    }
   ],
   "source": [
    "\n",
    "num1 = int(input(\"Enter num1:\"))\n",
    "num2 = int(input(\"Enter num2:\"))\n",
    "\n",
    "print(\"The value of num1 before swap:\",num1)\n",
    "print(\"The value of num2 before swap:\",num2)\n",
    "\n",
    "temp = num1\n",
    "num1 = num2\n",
    "num2 = temp\n",
    "\n",
    "print(\"The value of num1 after swap:\",num1)\n",
    "print(\"The value of num2 after swap:\",num2)"
   ]
  },
  {
   "cell_type": "markdown",
   "id": "fdcebc9b",
   "metadata": {},
   "source": [
    "# Q2 - Swap Two Numbers without using 3rd variable"
   ]
  },
  {
   "cell_type": "code",
   "execution_count": 5,
   "id": "aababfe1",
   "metadata": {},
   "outputs": [
    {
     "name": "stdout",
     "output_type": "stream",
     "text": [
      "Enter num1:56\n",
      "Enter num2:98\n",
      "The value of num1 before swap: 56\n",
      "The value of num2 before swap: 98\n",
      "The value of num1 after swap: 98\n",
      "The value of num2 after swap: 56\n"
     ]
    }
   ],
   "source": [
    "num1 = int(input(\"Enter num1:\"))\n",
    "num2 = int(input(\"Enter num2:\"))\n",
    "\n",
    "print(\"The value of num1 before swap:\",num1)\n",
    "print(\"The value of num2 before swap:\",num2)\n",
    "\n",
    "\n",
    "num1 = num1+ num2 \n",
    "\n",
    "num2 = num1 - num2  \n",
    "\n",
    "num1 = num1 - num2 \n",
    "\n",
    "print(\"The value of num1 after swap:\",num1)\n",
    "print(\"The value of num2 after swap:\",num2)"
   ]
  },
  {
   "cell_type": "markdown",
   "id": "18df3034",
   "metadata": {},
   "source": [
    "# Q3 - Simple Interest"
   ]
  },
  {
   "cell_type": "code",
   "execution_count": 6,
   "id": "d5493aed",
   "metadata": {},
   "outputs": [
    {
     "name": "stdout",
     "output_type": "stream",
     "text": [
      "Enter your principle amount:1000\n",
      "Enter rate of interest:13\n",
      "Enter time period in years:5\n",
      "Simple Interest is: 650.0\n"
     ]
    }
   ],
   "source": [
    "\n",
    "principle = int(input(\"Enter your principle amount:\"))\n",
    "rate_of_interest = int(input(\"Enter rate of interest:\"))\n",
    "years = int(input(\"Enter time period in years:\"))\n",
    "\n",
    "simple_interest = (principle * rate_of_interest * years)/100\n",
    "\n",
    "print(\"Simple Interest is:\",simple_interest)"
   ]
  },
  {
   "cell_type": "markdown",
   "id": "88547f7d",
   "metadata": {},
   "source": [
    "# Q4 - Average of 5 numbers "
   ]
  },
  {
   "cell_type": "code",
   "execution_count": 1,
   "id": "8900d946",
   "metadata": {},
   "outputs": [
    {
     "name": "stdout",
     "output_type": "stream",
     "text": [
      "Enter 1st number:12\n",
      "Enter 2nd number:23\n",
      "Enter 3rd number:12\n",
      "Enter 4th number:23\n",
      "Enter 5th number:15\n",
      "The average of given numbers is: 17.0\n"
     ]
    }
   ],
   "source": [
    "num1 = int(input(\"Enter 1st number:\"))\n",
    "num2 = int(input(\"Enter 2nd number:\"))\n",
    "num3 = int(input(\"Enter 3rd number:\"))\n",
    "num4 = int(input(\"Enter 4th number:\"))\n",
    "num5 = int(input(\"Enter 5th number:\"))\n",
    "\n",
    "sum = num1 + num2 + num3 + num4 + num5\n",
    "\n",
    "count = 5\n",
    "\n",
    "average = sum / count\n",
    "\n",
    "print(\"The average of given numbers is:\",average)\n"
   ]
  },
  {
   "cell_type": "markdown",
   "id": "f5261470",
   "metadata": {},
   "source": [
    "# Q5 - Discriminant of quadratic equation "
   ]
  },
  {
   "cell_type": "code",
   "execution_count": 4,
   "id": "8e4bb0bc",
   "metadata": {},
   "outputs": [
    {
     "name": "stdout",
     "output_type": "stream",
     "text": [
      "Enter value of A:1\n",
      "Enter value of B:10\n",
      "Enter value of C:3\n",
      "Discriminant of given quadratic equation is: 88\n"
     ]
    }
   ],
   "source": [
    "# discriminant = B^2 - 4*A*C\n",
    "\n",
    "A = int(input(\"Enter value of A:\"))\n",
    "B = int(input(\"Enter value of B:\"))\n",
    "C = int(input(\"Enter value of C:\"))\n",
    "\n",
    "discriminant = B**2 - 4 * A * C\n",
    "\n",
    "print(\"Discriminant of given quadratic equation is:\",discriminant)"
   ]
  },
  {
   "cell_type": "markdown",
   "id": "28a8bea9",
   "metadata": {},
   "source": [
    "# Basic Input Output - 3"
   ]
  },
  {
   "cell_type": "markdown",
   "id": "3bde3d09",
   "metadata": {},
   "source": [
    "# Q1 - Area of different shapes"
   ]
  },
  {
   "cell_type": "markdown",
   "id": "948be8b5",
   "metadata": {},
   "source": [
    "# Rectangle"
   ]
  },
  {
   "cell_type": "code",
   "execution_count": 7,
   "id": "1dda09b0",
   "metadata": {},
   "outputs": [
    {
     "name": "stdout",
     "output_type": "stream",
     "text": [
      "Enter length of Rectangle:50\n",
      "Enter width of Rectangle:30\n",
      "Area of given rectangle is: 1500 units\n"
     ]
    }
   ],
   "source": [
    "length = int(input(\"Enter length of Rectangle:\"))\n",
    "width = int(input(\"Enter width of Rectangle:\"))\n",
    "\n",
    "area = length * width\n",
    "\n",
    "print(\"Area of given Rectangle is: {} units\".format(area))"
   ]
  },
  {
   "cell_type": "markdown",
   "id": "c74fa4f0",
   "metadata": {},
   "source": [
    "# Square"
   ]
  },
  {
   "cell_type": "code",
   "execution_count": 8,
   "id": "d911ca9b",
   "metadata": {},
   "outputs": [
    {
     "name": "stdout",
     "output_type": "stream",
     "text": [
      "Enter length of side of Square:15\n",
      "Area of given Square is: 225 units\n"
     ]
    }
   ],
   "source": [
    "side = int(input(\"Enter length of side of Square:\"))\n",
    "\n",
    "area = side * side\n",
    "\n",
    "print(\"Area of given Square is: {} units\".format(area))"
   ]
  },
  {
   "cell_type": "markdown",
   "id": "6c8b449b",
   "metadata": {},
   "source": [
    "# Triangle "
   ]
  },
  {
   "cell_type": "code",
   "execution_count": 9,
   "id": "4626a9dd",
   "metadata": {},
   "outputs": [
    {
     "name": "stdout",
     "output_type": "stream",
     "text": [
      "Enter value for base:15\n",
      "Enter value for height:28\n",
      "Area of given Triangle is: 210.0 units\n"
     ]
    }
   ],
   "source": [
    "base = int(input(\"Enter value for base:\"))\n",
    "height = int(input(\"Enter value for height:\"))\n",
    "\n",
    "area = (base * height) / 2\n",
    "\n",
    "print(\"Area of given Triangle is: {} units\".format(area))"
   ]
  },
  {
   "cell_type": "markdown",
   "id": "b24ba3a6",
   "metadata": {},
   "source": [
    "# Circle"
   ]
  },
  {
   "cell_type": "code",
   "execution_count": 11,
   "id": "c7dcb67c",
   "metadata": {},
   "outputs": [
    {
     "name": "stdout",
     "output_type": "stream",
     "text": [
      "Enter value for Radius:15\n",
      "Area of given Circle is: 706.5 units\n"
     ]
    }
   ],
   "source": [
    "radius = int(input(\"Enter value for Radius:\"))\n",
    "\n",
    "area = radius * radius * 3.14\n",
    "\n",
    "print(\"Area of given Circle is: {} units\".format(area))"
   ]
  },
  {
   "cell_type": "markdown",
   "id": "613135fb",
   "metadata": {},
   "source": [
    "# Q2 - Net salary calculation"
   ]
  },
  {
   "cell_type": "code",
   "execution_count": 14,
   "id": "6472ac0f",
   "metadata": {},
   "outputs": [
    {
     "name": "stdout",
     "output_type": "stream",
     "text": [
      "Enter basic salary:450000\n",
      "Net salary is: 382500.0\n"
     ]
    }
   ],
   "source": [
    "basicSalary = int(input(\"Enter basic salary:\"))\n",
    "\n",
    "DA = basicSalary * 0.05\n",
    "HRA = basicSalary * 0.07\n",
    "PF = basicSalary * 0.03\n",
    "\n",
    "netSalary = basicSalary - (DA + HRA + PF)\n",
    "\n",
    "print(\"Net salary is:\",netSalary)"
   ]
  },
  {
   "cell_type": "markdown",
   "id": "43ae2bfb",
   "metadata": {},
   "source": [
    "# Q3 - power of a number"
   ]
  },
  {
   "cell_type": "code",
   "execution_count": 15,
   "id": "4cdd25f7",
   "metadata": {},
   "outputs": [
    {
     "name": "stdout",
     "output_type": "stream",
     "text": [
      "Enter base:3\n",
      "Enter exponent:4\n",
      "Answer: 81\n"
     ]
    }
   ],
   "source": [
    "base = int(input(\"Enter base:\"))\n",
    "exponent = int(input(\"Enter exponent:\"))\n",
    "\n",
    "power = base ** exponent\n",
    "\n",
    "print(\"Answer:\",power)"
   ]
  },
  {
   "cell_type": "markdown",
   "id": "52e650b3",
   "metadata": {},
   "source": [
    "# Q4 - python version"
   ]
  },
  {
   "cell_type": "code",
   "execution_count": 19,
   "id": "74842100",
   "metadata": {},
   "outputs": [
    {
     "data": {
      "text/plain": [
       "'3.9.13'"
      ]
     },
     "execution_count": 19,
     "metadata": {},
     "output_type": "execute_result"
    }
   ],
   "source": [
    "from platform import python_version\n",
    "python_version()"
   ]
  }
 ],
 "metadata": {
  "kernelspec": {
   "display_name": "Python 3 (ipykernel)",
   "language": "python",
   "name": "python3"
  },
  "language_info": {
   "codemirror_mode": {
    "name": "ipython",
    "version": 3
   },
   "file_extension": ".py",
   "mimetype": "text/x-python",
   "name": "python",
   "nbconvert_exporter": "python",
   "pygments_lexer": "ipython3",
   "version": "3.9.13"
  }
 },
 "nbformat": 4,
 "nbformat_minor": 5
}
