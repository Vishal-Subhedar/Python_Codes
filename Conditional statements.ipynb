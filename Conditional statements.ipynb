{
 "cells": [
  {
   "cell_type": "markdown",
   "id": "3453f1db",
   "metadata": {},
   "source": [
    "# Conditional statements - 1"
   ]
  },
  {
   "cell_type": "markdown",
   "id": "2149410b",
   "metadata": {},
   "source": [
    "# Q1 - Check number is Odd or Even"
   ]
  },
  {
   "cell_type": "code",
   "execution_count": 1,
   "id": "ece3ff97",
   "metadata": {},
   "outputs": [
    {
     "name": "stdout",
     "output_type": "stream",
     "text": [
      "Enter number:1\n",
      "You have entered an 'Odd' number\n"
     ]
    }
   ],
   "source": [
    "num = int(input(\"Enter number:\"))\n",
    "\n",
    "if num % 2 == 0:\n",
    "    print(\"You have entered an 'Even' number\")\n",
    "else:\n",
    "    print(\"You have entered an 'Odd' number\")"
   ]
  },
  {
   "cell_type": "markdown",
   "id": "c7b462f6",
   "metadata": {},
   "source": [
    "# Q2 - check alphabet is Vowel or consonant"
   ]
  },
  {
   "cell_type": "code",
   "execution_count": 3,
   "id": "9b81364a",
   "metadata": {},
   "outputs": [
    {
     "name": "stdout",
     "output_type": "stream",
     "text": [
      "Enter an Alphabet:A\n",
      "You have entered an alphabet A and its an vowel\n"
     ]
    }
   ],
   "source": [
    "# method 1\n",
    "\n",
    "vowels = ('a','e','i','o','u')\n",
    "\n",
    "char = input(\"Enter an Alphabet:\")\n",
    "\n",
    "if char.lower() in vowels:\n",
    "    print(\"Vowel found\")\n",
    "else:\n",
    "    print(\"no no! its a consonant\")\n",
    "    \n",
    "    \n",
    "# Method 2\n",
    "\n",
    "if char == 'a' or char == 'A':\n",
    "    print(\"You have entered an alphabet \" + char + \" and its an vowel\")\n",
    "elif char == 'e' or char == 'E':\n",
    "    print(\"You have entered an alphabet \" + char + \" and its an vowel\")\n",
    "elif char == 'i' or char == 'I':\n",
    "    print(\"You have entered an alphabet \" + char + \" and its an vowel\")\n",
    "elif char == 'o' or char == 'O':\n",
    "    print(\"You have entered an alphabet \" + char + \" and its an vowel\")\n",
    "elif char == 'u' or char == 'U':\n",
    "    print(\"You have entered an alphabet \" + char + \" and its an vowel\")\n",
    "else:\n",
    "    print(\"You have entered an alphabet \" + char + \" and its a Consonant\")"
   ]
  },
  {
   "cell_type": "markdown",
   "id": "608149be",
   "metadata": {},
   "source": [
    "# Q3 - check voting eligibility"
   ]
  },
  {
   "cell_type": "code",
   "execution_count": 4,
   "id": "42e2c09f",
   "metadata": {},
   "outputs": [
    {
     "name": "stdout",
     "output_type": "stream",
     "text": [
      "Enter your age:19\n",
      "Yes! you can vote\n"
     ]
    }
   ],
   "source": [
    "age = int(input(\"Enter your age:\"))\n",
    "\n",
    "if age >= 18:\n",
    "    print(\"Yes! you can vote\")\n",
    "else:\n",
    "    print(\"no! you cannot vote\")"
   ]
  },
  {
   "cell_type": "markdown",
   "id": "b8f19916",
   "metadata": {},
   "source": [
    "# Q4 - check number is Positive or Negative or zero"
   ]
  },
  {
   "cell_type": "code",
   "execution_count": 7,
   "id": "83301b54",
   "metadata": {},
   "outputs": [
    {
     "name": "stdout",
     "output_type": "stream",
     "text": [
      "Enter number:-9\n",
      "Negative\n"
     ]
    }
   ],
   "source": [
    "num = int(input(\"Enter number:\"))\n",
    "\n",
    "if num > 0:\n",
    "    print(\"Positive\")\n",
    "elif num < 0:\n",
    "    print(\"Negative\")\n",
    "else:\n",
    "    print(\"Zero\")"
   ]
  },
  {
   "cell_type": "markdown",
   "id": "fd519848",
   "metadata": {},
   "source": [
    "# Q5 - check given year is leap year or not "
   ]
  },
  {
   "cell_type": "code",
   "execution_count": 8,
   "id": "c47c737c",
   "metadata": {},
   "outputs": [
    {
     "name": "stdout",
     "output_type": "stream",
     "text": [
      "Enter Year:2000\n",
      "its a leap year\n"
     ]
    }
   ],
   "source": [
    "year = int(input(\"Enter Year:\"))\n",
    "\n",
    "if year % 4 == 0:\n",
    "    if year % 100 == 0:\n",
    "        if year % 400 == 0:\n",
    "            print(\"its a leap year\")\n",
    "        else:\n",
    "            print(\"Not a leap year\")\n",
    "    else:\n",
    "        print(\"its a leap year\")\n",
    "else:\n",
    "    print(\"Not a leap year\")"
   ]
  },
  {
   "cell_type": "markdown",
   "id": "3916d00e",
   "metadata": {},
   "source": [
    "# Q6 - Check Triangle"
   ]
  },
  {
   "cell_type": "code",
   "execution_count": 9,
   "id": "7b004bce",
   "metadata": {},
   "outputs": [
    {
     "name": "stdout",
     "output_type": "stream",
     "text": [
      "Length of side1: 15\n",
      "Length of side2: 15\n",
      "Length of side3: 15\n",
      "its an Equilateral triangle\n"
     ]
    }
   ],
   "source": [
    "side1 = int(input(\"Length of side1: \"))\n",
    "side2 = int(input(\"Length of side2: \"))\n",
    "side3 = int(input(\"Length of side3: \"))\n",
    "\n",
    "if side1 == side2 == side3:\n",
    "    print(\"its an Equilateral triangle\")\n",
    "elif side1==side2 or side2==side3 or side1==side3:\n",
    "    print(\"its an isosceles triangle\")\n",
    "else:\n",
    "    print(\"its a Scalene triangle\")"
   ]
  },
  {
   "cell_type": "markdown",
   "id": "2ff608dd",
   "metadata": {},
   "source": [
    "# Q7 - profit / loss"
   ]
  },
  {
   "cell_type": "code",
   "execution_count": 11,
   "id": "959f0708",
   "metadata": {},
   "outputs": [
    {
     "name": "stdout",
     "output_type": "stream",
     "text": [
      "Enter buying price:10\n",
      "Enter selling price:20\n",
      "Yeah! profit of: 10\n"
     ]
    }
   ],
   "source": [
    "buyingPrice = int(input(\"Enter buying price:\"))\n",
    "sellingPrice = int(input(\"Enter selling price:\"))\n",
    "\n",
    "if buyingPrice > sellingPrice:\n",
    "    print(\"Oops! its a loss of:\",buyingPrice - sellingPrice)\n",
    "elif buyingPrice == sellingPrice:\n",
    "    print(\"no profit no loss buddy\")\n",
    "else:\n",
    "    print(\"Yeah! profit of:\",sellingPrice - buyingPrice) "
   ]
  },
  {
   "cell_type": "markdown",
   "id": "c6628be7",
   "metadata": {},
   "source": [
    "# Conditional statements - 2"
   ]
  },
  {
   "cell_type": "markdown",
   "id": "8d3b7485",
   "metadata": {},
   "source": [
    "# Q1 - compare two numebrs and print greatest number"
   ]
  },
  {
   "cell_type": "code",
   "execution_count": 14,
   "id": "249765ca",
   "metadata": {},
   "outputs": [
    {
     "name": "stdout",
     "output_type": "stream",
     "text": [
      "Enter 1st number:10\n",
      "Enter 2nd number:20\n",
      "Greatest of given numbers is: 20\n"
     ]
    }
   ],
   "source": [
    "num1 = int(input(\"Enter 1st number:\"))\n",
    "num2 = int(input(\"Enter 2nd number:\"))\n",
    "\n",
    "if num1 > num2:\n",
    "    print(\"Greatest of given numbers is:\",num1)\n",
    "elif num2 > num1:\n",
    "    print(\"Greatest of given numbers is:\",num2)\n",
    "else:\n",
    "    print(\"{} and {} both are equal\".format(num1,num2))"
   ]
  },
  {
   "cell_type": "markdown",
   "id": "8eadb3fb",
   "metadata": {},
   "source": [
    "# Q2 - compare two numebrs and print smallest number"
   ]
  },
  {
   "cell_type": "code",
   "execution_count": 15,
   "id": "afb6b1f6",
   "metadata": {},
   "outputs": [
    {
     "name": "stdout",
     "output_type": "stream",
     "text": [
      "Enter 1st number:10\n",
      "Enter 2nd number:20\n",
      "smallest of given numbers is: 10\n"
     ]
    }
   ],
   "source": [
    "num1 = int(input(\"Enter 1st number:\"))\n",
    "num2 = int(input(\"Enter 2nd number:\"))\n",
    "\n",
    "if num1 > num2:\n",
    "    print(\"smallest of given numbers is:\",num2)\n",
    "elif num2 > num1:\n",
    "    print(\"smallest of given numbers is:\",num1)\n",
    "else:\n",
    "    print(\"{} and {} both are equal\".format(num1,num2))"
   ]
  },
  {
   "cell_type": "markdown",
   "id": "4761996c",
   "metadata": {},
   "source": [
    "# Q3 - Compare 3 numbers and print greatest number"
   ]
  },
  {
   "cell_type": "code",
   "execution_count": 1,
   "id": "5dcefc31",
   "metadata": {},
   "outputs": [
    {
     "name": "stdout",
     "output_type": "stream",
     "text": [
      "Greatest of given numbers is: 3\n"
     ]
    }
   ],
   "source": [
    "num1 = int(input(\"Enter 1st number:\"))\n",
    "num2 = int(input(\"Enter 2nd number:\"))\n",
    "num3 = int(input(\"Enter 3rd number:\"))\n",
    "\n",
    "if num1 > num2:\n",
    "    if num1 > num3:\n",
    "        print(\"Greatest of given numbers is:\",num1)\n",
    "    else:\n",
    "        print(\"Greatest of given numbers is:\",num3)\n",
    "else:\n",
    "    if num2 > num3:\n",
    "        print(\"Greatest of given numbers is:\",num2)\n",
    "    else:\n",
    "        print(\"Greatest of given numbers is:\",num3)"
   ]
  },
  {
   "cell_type": "markdown",
   "id": "bd2419af",
   "metadata": {},
   "source": [
    "# Q4 - Compare 3 numbers and print smallest number"
   ]
  },
  {
   "cell_type": "code",
   "execution_count": 4,
   "id": "0e3ca2ca",
   "metadata": {},
   "outputs": [
    {
     "name": "stdout",
     "output_type": "stream",
     "text": [
      "Smallest of given numbers is: 7\n"
     ]
    }
   ],
   "source": [
    "num1 = int(input(\"Enter 1st number:\"))\n",
    "num2 = int(input(\"Enter 2nd number:\"))\n",
    "num3 = int(input(\"Enter 3rd number:\"))\n",
    "\n",
    "if num1 < num2:\n",
    "    if num1 < num3:\n",
    "        print(\"Smallest of given numbers is:\",num1)\n",
    "    else:\n",
    "        print(\"Smallest of given numbers is:\",num3)\n",
    "else:\n",
    "    if num2 < num3:\n",
    "        print(\"Smallest of given numbers is:\",num2)\n",
    "    else:\n",
    "        print(\"Smallest of given numbers is:\",num3)"
   ]
  },
  {
   "cell_type": "markdown",
   "id": "f627438f",
   "metadata": {},
   "source": [
    "# "
   ]
  },
  {
   "cell_type": "markdown",
   "id": "7557d0ac",
   "metadata": {},
   "source": [
    "# Q5 - Roots of quadratic equation "
   ]
  },
  {
   "cell_type": "code",
   "execution_count": 13,
   "id": "01ff3598",
   "metadata": {},
   "outputs": [
    {
     "name": "stdout",
     "output_type": "stream",
     "text": [
      "Roots are: 64.0 -66.0\n"
     ]
    }
   ],
   "source": [
    "# Roots = -B +- sqrt(B**2 - 4 * A * C) / 2 A\n",
    "import math\n",
    "A = int(input(\"Enter value of A:\"))\n",
    "B = int(input(\"Enter value of B:\"))\n",
    "C = int(input(\"Enter value of C:\"))\n",
    "\n",
    "discriminant = B**2 - 4 * A * C\n",
    "root1 = ( -B + math.sqrt(discriminant)) / 2 *A\n",
    "root2 = ( -B - math.sqrt(discriminant)) / 2 *A\n",
    "\n",
    "print(\"Roots are:\",root1,root2)\n"
   ]
  },
  {
   "cell_type": "markdown",
   "id": "d1b5dec3",
   "metadata": {},
   "source": [
    "# Q6 - Enter a number between 1 - 7 and print the respective day of the week"
   ]
  },
  {
   "cell_type": "code",
   "execution_count": 14,
   "id": "59826976",
   "metadata": {},
   "outputs": [
    {
     "name": "stdout",
     "output_type": "stream",
     "text": [
      "monday\n",
      "monday\n"
     ]
    }
   ],
   "source": [
    "num = int(input(\"Enter number:\"))\n",
    "\n",
    "days = ('monday','tuesday','wednesday','thursday','friday','saturday','sunday')\n",
    "\n",
    "# 1st solution\n",
    "\n",
    "if num>=1 and num <=7:\n",
    "    print(days[num-1])\n",
    "else:\n",
    "    print(\"Invalid\")\n",
    "\n",
    "#2nd solution\n",
    "\n",
    "if num == 1:\n",
    "    print(\"monday\")\n",
    "elif num == 2:\n",
    "    print(\"tuesday\")\n",
    "elif num == 3:\n",
    "    print(\"wednesday\")\n",
    "elif num == 4:\n",
    "    print(\"thursday\")\n",
    "elif num == 5:\n",
    "    print(\"friday\")\n",
    "elif num == 6:\n",
    "    print(\"saturday\")\n",
    "elif num == 7:\n",
    "    print(\"sunday\")\n",
    "else:\n",
    "    print(\"Invalid\")"
   ]
  },
  {
   "cell_type": "markdown",
   "id": "c63f78a7",
   "metadata": {},
   "source": [
    "# Conditional statements - 3"
   ]
  },
  {
   "cell_type": "markdown",
   "id": "a98f9811",
   "metadata": {},
   "source": [
    "# Q1 - Enter a number between 1 - 12 and print the respective month"
   ]
  },
  {
   "cell_type": "code",
   "execution_count": 15,
   "id": "b6a7f953",
   "metadata": {},
   "outputs": [
    {
     "name": "stdout",
     "output_type": "stream",
     "text": [
      "February\n"
     ]
    }
   ],
   "source": [
    "num = int(input(\"Enter number:\"))\n",
    "\n",
    "days = ('January','February','March','April','May','June','July','August','September','October','November','December')\n",
    "\n",
    "\n",
    "if num>=1 and num <=12:\n",
    "    print(days[num-1])\n",
    "else:\n",
    "    print(\"Invalid\")"
   ]
  },
  {
   "cell_type": "markdown",
   "id": "899cb51e",
   "metadata": {},
   "source": [
    "# Q2 - input number between 1 - 4 and perform operations"
   ]
  },
  {
   "cell_type": "code",
   "execution_count": 20,
   "id": "c314d254",
   "metadata": {},
   "outputs": [
    {
     "name": "stdout",
     "output_type": "stream",
     "text": [
      "Addition is: 40\n"
     ]
    }
   ],
   "source": [
    "# 1 - Addition\n",
    "# 2 - Subtraction\n",
    "# 3 - Multiplication\n",
    "# 4 - Division\n",
    "\n",
    "choice = int(input(\" 1 - Addition \\n 2 - Subtraction \\n 3 - Multiplication \\n 4 - Division \\n Enter choice:\"))\n",
    " \n",
    "num1 = int(input(\"Enter value for num1:\"))\n",
    "num2 = int(input(\"Enter value for num2:\"))\n",
    "\n",
    "if choice == 1:\n",
    "    print(\"Addition is:\",num1 + num2)\n",
    "elif choice == 2:\n",
    "    print(\"Subtraction is:\",num1 - num2)\n",
    "elif choice == 3:\n",
    "    print(\"Multiplication is:\",num1 * num2)\n",
    "elif choice == 4:\n",
    "    print(\"Division is:\",num1 / num2)\n",
    "else:\n",
    "    print(\"Invalid Choice\")"
   ]
  },
  {
   "cell_type": "markdown",
   "id": "493edbcc",
   "metadata": {},
   "source": [
    "# Q3 - Convert temperatures"
   ]
  },
  {
   "cell_type": "code",
   "execution_count": 24,
   "id": "0cdfe1b9",
   "metadata": {},
   "outputs": [
    {
     "name": "stdout",
     "output_type": "stream",
     "text": [
      "Fahrenheit: 98.6\n",
      "Celsius: 37.0\n"
     ]
    }
   ],
   "source": [
    "choice = int(input(\" 1 - Celsius to fahrenheit \\n 2 - fahrenheit to Celsius Enter choice:\"))\n",
    "\n",
    "if choice == 1:\n",
    "    temp = float(input(\"Enter value of temperature in celsius:\"))\n",
    "    print(\"Celsius:\",temp)\n",
    "    print(\"Fahrenheit:\",(temp * 9 / 5) + 32)\n",
    "\n",
    "elif choice ==2:\n",
    "    temp = float(input(\"Enter value of temperature in Fahrenheit:\"))\n",
    "    print(\"Fahrenheit:\",temp)\n",
    "    print(\"Celsius:\",(temp - 32 )* (5/9))\n",
    "else:\n",
    "    print(\"Invalid choice\")"
   ]
  },
  {
   "cell_type": "markdown",
   "id": "a040794a",
   "metadata": {},
   "source": [
    "# Conditional Statements - 5"
   ]
  },
  {
   "cell_type": "markdown",
   "id": "079736d0",
   "metadata": {},
   "source": [
    "# Q1 - Calculate and print Bonus"
   ]
  },
  {
   "cell_type": "code",
   "execution_count": 25,
   "id": "6f28d2b9",
   "metadata": {},
   "outputs": [
    {
     "name": "stdout",
     "output_type": "stream",
     "text": [
      "Net bonus amount: 5.0\n"
     ]
    }
   ],
   "source": [
    "\n",
    "yearsOfService = int(input(\"Enter years of service:\"))\n",
    "salary = int(input(\"Enter Your salary:\"))\n",
    "\n",
    "if yearsOfService > 5:\n",
    "    bonus = salary * 0.05\n",
    "    print(\"Net bonus amount:\",bonus)\n",
    "    \n",
    "else:\n",
    "    print(\"Not eligible for bonus\")"
   ]
  },
  {
   "cell_type": "markdown",
   "id": "828c6c3e",
   "metadata": {},
   "source": [
    "# Q2 - check given rectangle is square or not"
   ]
  },
  {
   "cell_type": "code",
   "execution_count": 26,
   "id": "028d4fcc",
   "metadata": {},
   "outputs": [
    {
     "name": "stdout",
     "output_type": "stream",
     "text": [
      "Given rectangle is square\n"
     ]
    }
   ],
   "source": [
    "length = int(input(\"Enter length of Rectangle:\"))\n",
    "width = int(input(\"Enter width of Rectangle:\"))\n",
    "\n",
    "if length == width:\n",
    "    print(\"Given rectangle is square\")\n",
    "else:\n",
    "    print(\"Given rectangle is not square\")"
   ]
  },
  {
   "cell_type": "markdown",
   "id": "9205316f",
   "metadata": {},
   "source": [
    "# Q3 - find oldest and youngest among 3 people"
   ]
  },
  {
   "cell_type": "code",
   "execution_count": 28,
   "id": "4d170228",
   "metadata": {},
   "outputs": [
    {
     "name": "stdout",
     "output_type": "stream",
     "text": [
      "Age of 1st person: 1\n",
      "Age of 2nd person: 2\n",
      "Age of 3rd person: 3\n",
      "Oldest: 3\n",
      "Youngest: 1\n"
     ]
    }
   ],
   "source": [
    "p1_age = int(input(\"Enter age of 1st person:\"))\n",
    "p2_age = int(input(\"Enter age of 2nd person:\"))\n",
    "p3_age = int(input(\"Enter age of 3rd person:\"))\n",
    "\n",
    "youngest = 0\n",
    "oldest = 0\n",
    "\n",
    "if p1_age > p2_age:\n",
    "    if p1_age > p3_age:\n",
    "        oldest = p1_age\n",
    "    else:\n",
    "        oldest = p3_age\n",
    "else:\n",
    "    if p2_age > p3_age:\n",
    "        oldest = p2_age\n",
    "    else:\n",
    "        oldest = p3_age\n",
    "\n",
    "if p1_age < p2_age:\n",
    "    if p1_age < p3_age:\n",
    "        youngest = p1_age\n",
    "    else:\n",
    "        youngest = p3_age\n",
    "else:\n",
    "    if p2_age < p3_age:\n",
    "        youngest = p2_age\n",
    "    else:\n",
    "        youngest = p3_age\n",
    "print(\"Age of 1st person:\",p1_age)\n",
    "print(\"Age of 2nd person:\",p2_age)\n",
    "print(\"Age of 3rd person:\",p3_age)\n",
    "print(\"Oldest:\",oldest)\n",
    "print(\"Youngest:\",youngest)"
   ]
  },
  {
   "cell_type": "markdown",
   "id": "37562c2f",
   "metadata": {},
   "source": [
    "# Conditional Statements - 5"
   ]
  },
  {
   "cell_type": "markdown",
   "id": "6f75bd77",
   "metadata": {},
   "source": [
    "# Q1 - Grading System"
   ]
  },
  {
   "cell_type": "code",
   "execution_count": 32,
   "id": "c30e66dd",
   "metadata": {},
   "outputs": [
    {
     "name": "stdout",
     "output_type": "stream",
     "text": [
      "Your Marks: 55\n",
      "Your grade: C\n"
     ]
    }
   ],
   "source": [
    "marks = int(input(\"Enter Your marks:\"))\n",
    "grade = ''\n",
    "if marks > 80 and marks < 100:\n",
    "    grade = 'A'\n",
    "elif marks >= 60 and marks <= 60:\n",
    "    grade = 'B'\n",
    "elif marks >= 50 and marks <= 60:\n",
    "    grade = 'C'\n",
    "elif marks >= 45 and marks <= 50:\n",
    "    grade = 'D'\n",
    "elif marks >= 25 and marks <= 45:\n",
    "    grade = 'E'\n",
    "elif marks < 25 and marks >= 0:\n",
    "    grade = 'F'\n",
    "else:\n",
    "    grade = \"Invalid Marks\"\n",
    "print(\"Your Marks:\", marks)\n",
    "print(\"Your grade:\", grade)"
   ]
  },
  {
   "cell_type": "markdown",
   "id": "f553f13b",
   "metadata": {},
   "source": [
    "# Conditional Statements - 6"
   ]
  },
  {
   "cell_type": "markdown",
   "id": "b41f56ca",
   "metadata": {},
   "source": [
    "# Q1 - Attendance check"
   ]
  },
  {
   "cell_type": "code",
   "execution_count": 3,
   "id": "aac6304e",
   "metadata": {},
   "outputs": [
    {
     "name": "stdout",
     "output_type": "stream",
     "text": [
      "Number of Classes Held:84\n",
      "Number of Classes Attended:60\n",
      "Your Attendance is:  71.43  %\n",
      "You cannot sit in exams\n"
     ]
    }
   ],
   "source": [
    "numberOfClassesHeld = int(input(\"Number of Classes Held:\"))\n",
    "numberOfClassesAttended = int(input(\"Number of Classes Attended:\"))\n",
    "\n",
    "attendanceInPercentage = numberOfClassesAttended / numberOfClassesHeld *100\n",
    "print(\"Your Attendance is: \",format(attendanceInPercentage,\".2f\"), \" %\")\n",
    "\n",
    "if attendanceInPercentage >= 75:\n",
    "    print(\"You can sit in exams\")\n",
    "else:\n",
    "    print(\"You cannot sit in exams\")"
   ]
  },
  {
   "cell_type": "code",
   "execution_count": null,
   "id": "43a402bd",
   "metadata": {},
   "outputs": [],
   "source": []
  }
 ],
 "metadata": {
  "kernelspec": {
   "display_name": "Python 3 (ipykernel)",
   "language": "python",
   "name": "python3"
  },
  "language_info": {
   "codemirror_mode": {
    "name": "ipython",
    "version": 3
   },
   "file_extension": ".py",
   "mimetype": "text/x-python",
   "name": "python",
   "nbconvert_exporter": "python",
   "pygments_lexer": "ipython3",
   "version": "3.9.13"
  }
 },
 "nbformat": 4,
 "nbformat_minor": 5
}
